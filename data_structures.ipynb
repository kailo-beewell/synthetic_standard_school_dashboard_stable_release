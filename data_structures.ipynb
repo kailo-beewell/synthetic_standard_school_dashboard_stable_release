{
 "cells": [
  {
   "cell_type": "markdown",
   "metadata": {},
   "source": [
    "# Preview of the data structures from processing steps in creation of the synthetic standard survey school dashboard\n",
    "\n",
    "Please note: This will differ for the symbol survey and public dashboards.\n",
    "\n",
    "For a **diagram and written summary** of the data processing for the synthetic dashboard, please see `data_guide.md`. This notebook accompanies that guide, providing a preview of the data columns and types at key points in the process."
   ]
  },
  {
   "cell_type": "code",
   "execution_count": null,
   "metadata": {},
   "outputs": [],
   "source": [
    "# Import packages required to produced this notebook\n",
    "import pandas as pd"
   ]
  },
  {
   "cell_type": "code",
   "execution_count": null,
   "metadata": {},
   "outputs": [],
   "source": [
    "def describe_data(filepath):\n",
    "    '''\n",
    "    Describe the shape of the data, preview the first five rows, and print\n",
    "    the name and type of every column\n",
    "\n",
    "    filepath:\n",
    "    filename : string\n",
    "        Filepath of dataset to import and describe\n",
    "    '''\n",
    "    df = pd.read_csv(filepath)\n",
    "\n",
    "    # Print shape of dataframe\n",
    "    print(df.shape)\n",
    "\n",
    "    # Preview first 5 rows of dataframe\n",
    "    display(df.head())\n",
    "\n",
    "    # Print the name and type of every column\n",
    "    with pd.option_context('display.max_rows', None,\n",
    "                           'display.max_columns', None):\n",
    "        print(df.dtypes)"
   ]
  },
  {
   "cell_type": "markdown",
   "metadata": {},
   "source": [
    "### Raw data"
   ]
  },
  {
   "cell_type": "code",
   "execution_count": null,
   "metadata": {},
   "outputs": [],
   "source": [
    "describe_data('data/survey_data/KailoBeeWellStandard_DATA_2023-11-06_1152.csv')"
   ]
  },
  {
   "cell_type": "markdown",
   "metadata": {},
   "source": [
    "### Headings\n",
    "\n",
    "Headings is a dataset which only has column headings and does not contain any column entries."
   ]
  },
  {
   "cell_type": "code",
   "execution_count": null,
   "metadata": {},
   "outputs": [],
   "source": [
    "head = pd.read_csv('data/survey_data/headings.csv')\n",
    "\n",
    "# Print shape of dataframe\n",
    "print(head.shape)\n",
    "\n",
    "# Print all the columns in the dataframe\n",
    "head.columns.tolist()"
   ]
  },
  {
   "cell_type": "markdown",
   "metadata": {},
   "source": [
    "### Synthetic pupil dataset"
   ]
  },
  {
   "cell_type": "code",
   "execution_count": null,
   "metadata": {},
   "outputs": [],
   "source": [
    "describe_data('data/survey_data/synthetic_data_raw.csv')"
   ]
  },
  {
   "cell_type": "markdown",
   "metadata": {},
   "source": [
    "### Aggregated dataset with scores and RAG ratings"
   ]
  },
  {
   "cell_type": "code",
   "execution_count": null,
   "metadata": {},
   "outputs": [],
   "source": [
    "describe_data('data/survey_data/aggregate_scores_rag.csv')"
   ]
  },
  {
   "cell_type": "markdown",
   "metadata": {},
   "source": [
    "### Aggregated dataset with non-demographic question responses"
   ]
  },
  {
   "cell_type": "code",
   "execution_count": null,
   "metadata": {},
   "outputs": [],
   "source": [
    "describe_data('data/survey_data/aggregate_responses.csv')"
   ]
  },
  {
   "cell_type": "markdown",
   "metadata": {},
   "source": [
    "### Aggregated dataset with overall counts"
   ]
  },
  {
   "cell_type": "code",
   "execution_count": null,
   "metadata": {},
   "outputs": [],
   "source": [
    "describe_data('data/survey_data/overall_counts.csv')"
   ]
  },
  {
   "cell_type": "markdown",
   "metadata": {},
   "source": [
    "### Aggregated dataset with demographic question responses"
   ]
  },
  {
   "cell_type": "code",
   "execution_count": null,
   "metadata": {},
   "outputs": [],
   "source": [
    "describe_data('data/survey_data/aggregate_demographic.csv')"
   ]
  }
 ],
 "metadata": {
  "kernelspec": {
   "display_name": "kailo_dashboards",
   "language": "python",
   "name": "python3"
  },
  "language_info": {
   "codemirror_mode": {
    "name": "ipython",
    "version": 3
   },
   "file_extension": ".py",
   "mimetype": "text/x-python",
   "name": "python",
   "nbconvert_exporter": "python",
   "pygments_lexer": "ipython3",
   "version": "3.9.12"
  }
 },
 "nbformat": 4,
 "nbformat_minor": 2
}
